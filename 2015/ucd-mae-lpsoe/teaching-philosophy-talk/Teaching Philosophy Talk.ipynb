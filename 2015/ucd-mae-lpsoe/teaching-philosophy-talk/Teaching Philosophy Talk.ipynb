{
 "cells": [
  {
   "cell_type": "markdown",
   "metadata": {
    "slideshow": {
     "slide_type": "slide"
    }
   },
   "source": [
    "# Engineering Education Through Evidenced Based Teaching and Project Driven Learning\n",
    "\n",
    "> Can you imagine not playing the violin until your fourth year of study? Violinists start making sounds with their instrument the first day of lessons.\n",
    ">\n",
    "> -- <cite>Richard Miller, President, Olin College</cite>\n",
    "\n",
    "Jason K. Moore  \n",
    "UCD MAE LPSOE Interview  \n",
    "June 2, 2015\n",
    "\n",
    "Slides: http://tinyurl.com/jkm-tp-talk"
   ]
  },
  {
   "cell_type": "markdown",
   "metadata": {
    "slideshow": {
     "slide_type": "notes"
    }
   },
   "source": [
    "Good morning. My name is Jason Moore and I'm here for an interview for a lecturer in the MAE department. I am going to spend the next 20 minutes describing my teaching philosophy and how it can fit in with the department's mission."
   ]
  },
  {
   "cell_type": "markdown",
   "metadata": {
    "slideshow": {
     "slide_type": "slide"
    }
   },
   "source": [
    "# Background\n",
    "\n",
    "- BSc '04 Mechanical Engineering Old Dominion University, Norfolk, VA\n",
    "- MSc '07, PhD '12 Mechanical and Aerospace Engineering, UC Davis, CA\n",
    "- Fulbright '08 TU Delft, Netherlands\n",
    "- Co-founded and ran educational non-profit, Davis Bike Collective, 2005-2013\n",
    "- Postdoctoral research in powered exoskeleton control Cleveland State University, Cleveland, OH"
   ]
  },
  {
   "cell_type": "markdown",
   "metadata": {
    "slideshow": {
     "slide_type": "notes"
    }
   },
   "source": [
    "Before I begin I will give a little background information about myself. I grew up in Virginia and got a BSc at Old Dominion University where I focused mostly in mechanical design. After that, I got a MSC and PhD here where I focused on human control of vehicles. During graduate school I was fortunate to spend a year in the Netherlands at TU Delft under a Fulbright grant. I also co-founded and co-ran an educational non-profit here in Davis during graduate school. The city of Davis recognized my efforts there with an award in 2013. And most recently I have been working on powered exoskeleton control in Cleveland Ohio as a postdoctoral researcher."
   ]
  },
  {
   "cell_type": "markdown",
   "metadata": {
    "slideshow": {
     "slide_type": "slide"
    }
   },
   "source": [
    "# My Teaching Philosophy\n",
    "\n",
    "1. Let the evidence choose the instruction method\n",
    "2. Increase the desire to learn by leading with realistic problems\n",
    "3. Assess as much and as often as possible\n",
    "4. Teams are good for students and teachers\n",
    "5. Never stop learning to teach\n",
    "6. Diversity is crucial\n",
    "7. Each student is an individual\n",
    "8. Teaching materials need not be redundant"
   ]
  },
  {
   "cell_type": "markdown",
   "metadata": {
    "slideshow": {
     "slide_type": "notes"
    }
   },
   "source": [
    "I am going to summarize my teaching philosophy with these eight points:\n",
    "\n",
    "1. Let the evidence choose the instruction method\n",
    "2. Increase the desire to learn by leading with realistic problems\n",
    "3. Assess as much and as often as possible\n",
    "4. Teams are good for students and teachers\n",
    "5. Never stop learning to teach\n",
    "6. Diversity is crucial\n",
    "7. Each student is an individual\n",
    "8. Teaching materials need not be redundant\n",
    "\n",
    "I will go through each one and then give an example from my personal experience that shows how I use the philosophy or what inspired it.\n",
    "\n"
   ]
  },
  {
   "cell_type": "markdown",
   "metadata": {
    "slideshow": {
     "slide_type": "slide"
    }
   },
   "source": [
    "# 1. Evidence Based Teaching Methods\n",
    "  <ul>\n",
    "  <img style=\"float:right;\" src=\"how-learning-works.png\" width=200px>\n",
    "    <li>Let sound educational research drive our teaching methodologies.</li>\n",
    "    <li>Stay abreast on education research developments</li>\n",
    "    <li>Build a relationship with the UC Davis School of Education</li>\n",
    "  </ul>"
   ]
  },
  {
   "cell_type": "markdown",
   "metadata": {
    "slideshow": {
     "slide_type": "notes"
    }
   },
   "source": [
    "My first point is that we should let research be our guide in choosing the best teaching methods. There are many researchers, including those here in the education school, that study teaching methods in great detail. Just like our scientific research guides our engineering decisions, so should the education research guide our teaching decisions. For example, the book I show on the right should be read by every college instructor. It excellently provides seven principles for being a more effective teacher that are based on strong evidence. I use distillations of research knowledge like these to define my practical methods."
   ]
  },
  {
   "cell_type": "markdown",
   "metadata": {
    "slideshow": {
     "slide_type": "subslide"
    }
   },
   "source": [
    "# Practical Evidence Based Methods\n",
    "\n",
    "- Modular 15 minute lessons\n",
    "- Lecture = lessons separated by short student activity\n",
    "- Collect feedback multiple times during lecture\n",
    "- Share rubrics with the students\n",
    "- Students complete exam assessments\n",
    "- Hands-off teaching, students must go through the actions"
   ]
  },
  {
   "cell_type": "markdown",
   "metadata": {
    "slideshow": {
     "slide_type": "notes"
    }
   },
   "source": [
    "These are some examples of evidence based methods I use in my classroom. First I limit my lecturing to 15 minutes per concept. Attention spans are generally only around 15 minutes. I break up these 15 minute sections with student activities, which can be a simple a multiple choice question or a longer group activity. I also make sure to use and share rubrics for grading. Students fill out self evaluations on for their exam performance to help them think critically about why their performance was the way it was and how to improve. For labs, in particular, I typically do \"hands off teaching\" and never do the student's action for them. This was important at the Davis Bike Collective because students generally need to do the action themselves to actually learn."
   ]
  },
  {
   "cell_type": "markdown",
   "metadata": {
    "slideshow": {
     "slide_type": "slide"
    }
   },
   "source": [
    "# 2. Increase the desire to learn by leading with realistic problems\n",
    "\n",
    "- Real multidisciplinary problems from day one (don't wait till senior design)\n",
    "- Connect with entrepreneurs (biz students) early on\n",
    "- Structure curriculum design around engineering problems instead of engineering subjects \n",
    "- Bring student extracurricular projects into the classroom"
   ]
  },
  {
   "cell_type": "markdown",
   "metadata": {
    "slideshow": {
     "slide_type": "notes"
    }
   },
   "source": [
    "Secondly, I believe we should introduce students to the act of engineering as early as possible. In most cases the desire to solve a realistic problem will drive the desire to learn the necessary theory. I would like to connect freshman with entreprenuers in multidisplinary teams from day one. I also believe that that the curriculum can be designed around comphrensive engineering problems instead of well define subjects. One way to do this is to bring the kinds of things students do in their extracurricular projects into the classroom."
   ]
  },
  {
   "cell_type": "markdown",
   "metadata": {
    "slideshow": {
     "slide_type": "subslide"
    }
   },
   "source": [
    "# Example: TU Delft Freshman Course\n",
    "\n",
    "<ul>\n",
    "  <img class='img-rounded' src='tu-delft-freshman-project.png' width=250px style=\"float: right;\">\n",
    "  <li>All freshman enrolled in a intro to engineering course</li>\n",
    "  <li>Each year the course is designed around some problem to solve:\n",
    "    <ul>\n",
    "      <li>Spiderman machine</li>\n",
    "      <li>Rowing vehicle</li>\n",
    "    </ul>\n",
    "  </li>\n",
    "  <li>Essentially senior design during freshman year</li>\n",
    "  <li>Competition among teams</li>\n",
    "  <li>The instructors introduce necessary engineering concepts along the way</li>\n",
    "</ul>"
   ]
  },
  {
   "cell_type": "markdown",
   "metadata": {
    "slideshow": {
     "slide_type": "notes"
    }
   },
   "source": [
    "While I was at TU Delft I was inspired by their freshman curriculum. All of the freshman are enrolled in a design course, split up into teams, and given a real problem to solve on day one. This course probably consumes half of their time the first year, essentially senior design during the freshman year. There is competition among teams and the instructors simply provide the necessary engineering concepts along the way as students need them. The problems teams face frame what concepts are learned. This experience lets students be engineers and understand what that really means early on in the curriculum. They create machines that many senior design courses would be pressed to top."
   ]
  },
  {
   "cell_type": "markdown",
   "metadata": {
    "slideshow": {
     "slide_type": "slide"
    }
   },
   "source": [
    "# 3. Assess as much and often as possible\n",
    "\n",
    "Feedback is critical for:\n",
    " - Effective teaching practice and improvement\n",
    " - Curriculum design decisions\n",
    "\n",
    "We need to:\n",
    "- Clearly define curriculum and teaching goals\n",
    "- Collect regular feedback to assess the goals\n",
    "- Institute department and college wide feedback mechanisms\n"
   ]
  },
  {
   "cell_type": "markdown",
   "metadata": {
    "slideshow": {
     "slide_type": "notes"
    }
   },
   "source": [
    "Feedback from students, faculty, staff, companies, and other universities is critical for us to make sound decisions on both our curriculum design and our teaching. But this must start with clear goals so that we can use assessments to determine if we are meeting the goals. Single end-of-course evaluations do not hold near enough information and we should be collecting broader and finer data about our educational performance. I want to help institute feedback mechanisms that all instructors can utilize to collect and analyze data for their decisions."
   ]
  },
  {
   "cell_type": "markdown",
   "metadata": {
    "slideshow": {
     "slide_type": "subslide"
    }
   },
   "source": [
    "# Assessment for Curriculum Design\n",
    "- Curriculum should constantly evolve\n",
    "- Create 5, 10, and 20 year plans\n",
    "- Encourage experimental courses with ample assessment\n",
    "- Base curriculum design decisions on data: strong cases for accreditation"
   ]
  },
  {
   "cell_type": "markdown",
   "metadata": {
    "slideshow": {
     "slide_type": "notes"
    }
   },
   "source": [
    "For our curriculum to evolve with the changes in the engineering profession and science we need to create 5, 10, and 20 year plans with concrete goals. Our curriculum should incrementally change each year, allowing courses to morph, merge, and even die. We should minimize the overhead for experimental courses and develop methods of evaluating their success. Once again data should drive our decisions and with this data we will have backing for accreditation."
   ]
  },
  {
   "cell_type": "markdown",
   "metadata": {
    "slideshow": {
     "slide_type": "subslide"
    }
   },
   "source": [
    "# Teaching Example: Sticky Notes\n",
    "\n",
    "- Each student takes 2 different color sticky notes at the beginning of class\n",
    "- Green = good, Red = not good\n",
    "- Allows for quick assessment of how many students are done at a problem, who needs help, etc.\n",
    "- At each break, students are asked to write one positive thing on the green note and one negative on the red note.\n",
    "- It only takes 5 minutes to go through 50 notes quickly and see how well you are doing."
   ]
  },
  {
   "cell_type": "markdown",
   "metadata": {
    "slideshow": {
     "slide_type": "notes"
    }
   },
   "source": [
    "As an example of feedback and assessment in teaching. I often make use of a simple strategy. When students arrive to class they each take two different color sticky notes (post it notes), for example, one green for good and red for bad. During the class students can use the colors to signal whether they understand the concept or not, need or don't help, etc. At each break I ask the students to then write down one positive and one negative thing about the class and pass them in. In five minutes, I can skim through the notes to get and idea of the state of the class and then adjust after the break to accommodate."
   ]
  },
  {
   "cell_type": "markdown",
   "metadata": {
    "slideshow": {
     "slide_type": "slide"
    }
   },
   "source": [
    "# 4. Teams are good for students and teachers\n",
    "\n",
    "## Students\n",
    "\n",
    "- A strong early emphasis on team work will better prepare our students for their jobs\n",
    "- With good contribution tracking, individual assessment can be garnered even in team projects\n",
    "\n",
    "## Teachers\n",
    "\n",
    "- Team teaching!\n",
    "- Course and curriculum design should be collaborative"
   ]
  },
  {
   "cell_type": "markdown",
   "metadata": {
    "slideshow": {
     "slide_type": "notes"
    }
   },
   "source": [
    "I am big fan of team work. In fact one of the main things I disheartens me about academia is how individualistic it is. We all know that the majority of our students have to work in teams the rest of their life as engineers so it seems a no brainer that we should start them in this way during undergrad. My courses will have strong dominate team activities. But I will use methods of contribution tracking and peer review to provide individualized grades.\n",
    "\n",
    "Teachers also benefit from team work and I hope to work with other instructors in the college on many things. One of my favorite teaching methods is teaching with one or more partners. Not only are the courses more rich for the students but having a teammate fuels my motivation and quality of work."
   ]
  },
  {
   "cell_type": "markdown",
   "metadata": {
    "slideshow": {
     "slide_type": "subslide"
    }
   },
   "source": [
    "# Example: Software Carpentry\n",
    "\n",
    "- 2 day workshops to train scientists and engineers about 4 topics:\n",
    " - automation, reusable code, structured data, version control\n",
    "- At least 2 instructors per course\n",
    "- One instructor \"drives\" while the other roams the room\n",
    "- Instructors switch driver and helper roles\n",
    "- This allows for very active learning, where students are doing during the lectures"
   ]
  },
  {
   "cell_type": "markdown",
   "metadata": {
    "slideshow": {
     "slide_type": "notes"
    }
   },
   "source": [
    "My favorite example are the two day software carpentry workshops I participate in. We always pair instructors, 2 for each 30-50 students. The workshops are focused on students doing and the instructors take turns being the driver and the helper. The driver leads the class while the helper plays support and give individual instruction to students to keep them on pace."
   ]
  },
  {
   "cell_type": "markdown",
   "metadata": {
    "slideshow": {
     "slide_type": "slide"
    }
   },
   "source": [
    "# 5. Never stop learning to teach\n",
    "\n",
    "- There is no summit to teaching, mastery is a moving target\n",
    "- Being an excellent teacher requires continual practice and feedback"
   ]
  },
  {
   "cell_type": "markdown",
   "metadata": {
    "slideshow": {
     "slide_type": "notes"
    }
   },
   "source": [
    "I never plan to stop to learning to teach. It is impossible to master teaching. Each new class, each new student, advances in the field, and educational advances all equate to teaching mastery being a constantly moving target. I'm well aware this and also excited to be able to spend all of my time becoming the best instructor I can."
   ]
  },
  {
   "cell_type": "markdown",
   "metadata": {
    "slideshow": {
     "slide_type": "subslide"
    }
   },
   "source": [
    "<h1>Plans for personal growth</h1>\n",
    "<ul>\n",
    "  <img src=\"iamstem.png\" width=300px style=\"float: right;\">\n",
    "  <li>Utilize student feedback and peer teaching evals</li>\n",
    "  <li>Participate in teaching conferences (ASEE, EDUCON, WEEF, etc)</li>\n",
    "  <li>Read relevant education research</li>\n",
    "  <li>Work with the Center for Excellence in Teaching and Learning</li>\n",
    "  <li>Foster collaborations with UCD's <a href=\"http://iamstem.ucdavis.edu/\">IAMSTEM</a> Hub</li>\n",
    "</ul>"
   ]
  },
  {
   "cell_type": "markdown",
   "metadata": {
    "slideshow": {
     "slide_type": "notes"
    }
   },
   "source": [
    "To do this I plan to explore many avenues. First, simply keeping up with educational research. I plan to attend educational conferences to keep up-to-date and work with local campus groups. The Center for Excellence in Teaching and Learning will become my new favorite hangout spot and UCD's new IAMSTEM hub is an exciting new initiative here to catalyze excellence in our undergraduate STEM teaching efforts. Their three strategies are shown on the right."
   ]
  },
  {
   "cell_type": "markdown",
   "metadata": {
    "slideshow": {
     "slide_type": "subslide"
    }
   },
   "source": [
    "# Plans to help others grow\n",
    "\n",
    "- Develop our TA training programs with TAs\n",
    "- Support the TA Consultant Program\n",
    "- Be available for faculty teaching reviews\n",
    "- Pursue educational grants for experimental teaching (e.g. NSF DUE)"
   ]
  },
  {
   "cell_type": "markdown",
   "metadata": {
    "slideshow": {
     "slide_type": "notes"
    }
   },
   "source": [
    "But I also want to help others grow too. I want to work closely with the TAs to collaboratively build a training program that other departments will be envious of. I want to be available to the faculty for teaching reviews and other help, not to mention co-teaching with others. Finally, I will be looking towards educational grants for the resources needed to experiment with bigger ideas for educational transformation."
   ]
  },
  {
   "cell_type": "markdown",
   "metadata": {
    "slideshow": {
     "slide_type": "slide"
    }
   },
   "source": [
    "# 6. Diversity is crucial\n",
    "\n",
    "<img src=\"highlight-me.png\" width=600px>\n",
    "Source: ASEE"
   ]
  },
  {
   "cell_type": "markdown",
   "metadata": {
    "slideshow": {
     "slide_type": "notes"
    }
   },
   "source": [
    "We are all probably aware of what these graphs show. Engineering's statistics for the # of women in engineering is dismal and mechanical engineering is one on the worst off. It doesn't get any better for ethnic minorities either. I believe that diversity has more positive benefits than we can probably quantify and wherever I work I will be a strong ally to these marginalized groups. We as instructors and as a department have to set a strong tone that welcomes and empowers traditionally marginalized groups. If I get hired it will be my goal to help our statistics outshine other universities."
   ]
  },
  {
   "cell_type": "markdown",
   "metadata": {
    "slideshow": {
     "slide_type": "subslide"
    }
   },
   "source": [
    "# What to do about it\n",
    "\n",
    "- Make a conscious plan to increase the number of minorities in our program\n",
    "- Classroom ground rules that ensure minorities voices\n",
    "- Create welcoming environment\n",
    "- Ally with student group and a campus leaders from various minority groups\n",
    "- Provide anonymous feedback avenues for students"
   ]
  },
  {
   "cell_type": "markdown",
   "metadata": {
    "slideshow": {
     "slide_type": "notes"
    }
   },
   "source": [
    "I have two very important experiences in my life that I believe make me more acutely aware of the need for diversity. The first is my tenure running the non-profit Davis Bike Collective. Bicycle repair is a traditionally male dominated activity. We worked very hard to change that picture. We developed a mission statement that put helping marginalized communities up front and created what we call \"safe spaces\" for introduction to the world of bicycle repair. We also developed clearly visible ground rules and had zero tolerance for behavior that made people feel unsafe. Secondly I have worked in an number of countries from the Netherlands to Zambia to Guatemala and understand much better now what it means to be an international student. I also have worked closely with disabled people though Whirlwind Wheelchairs. I've spent a fair amount of time in a wheelchair trying to see the world through that perspective to influence my designs.\n",
    "\n",
    "But the main thing I plan to provide with regards to diversity is to be an ally to those that need us the most. I want to empower minority student groups and work closely with them to help us create the most welcoming diverse mechanical engineering department in the country."
   ]
  },
  {
   "cell_type": "markdown",
   "metadata": {
    "slideshow": {
     "slide_type": "slide"
    }
   },
   "source": [
    "# 7. Each student is an individual\n",
    "\n",
    "- Each student has a different motivation for learning\n",
    "- Each student learns best in different ways\n",
    "- There is no catch-all magic bullet in teaching\n",
    "- Each course has to be adpated to the makeup of individual students"
   ]
  },
  {
   "cell_type": "markdown",
   "metadata": {
    "slideshow": {
     "slide_type": "notes"
    }
   },
   "source": [
    "Point 7 is that we have to remember that each student is an individual. This institution exists for the students and our goals is to help them learn what they desire to learn. There is no single way that allows us to most efficiently educate every student. We have to adjust our methods for the makeup of every group we teach. If we don't this in mind, our educational efforts will decline."
   ]
  },
  {
   "cell_type": "markdown",
   "metadata": {
    "slideshow": {
     "slide_type": "slide"
    }
   },
   "source": [
    "# 8. Teaching materials need not be redundant\n",
    "\n",
    "- Bring open source software development methods to teaching material development\n",
    "- Development of shared materials\n",
    "- Interactive \"text book\" development"
   ]
  },
  {
   "cell_type": "markdown",
   "metadata": {
    "slideshow": {
     "slide_type": "notes"
    }
   },
   "source": [
    "My final point is that teaching materials need not be redundant. I've spent a lot of time developing open source software with large collaborative teams. One team has more than 300 developers. I am very interested in bringing massive collaboration to the development of teaching materials, especially through interactive \"text book\" development. There is a project on campus called the ChemWiki that has successfully created collaboratively edited text books for undergraduate chemistry courses (and others too). My course material will be open, editable, and hopefully collaboratively built."
   ]
  },
  {
   "cell_type": "markdown",
   "metadata": {
    "slideshow": {
     "slide_type": "subslide"
    }
   },
   "source": [
    "# Example: Software Carpentry\n",
    "\n",
    "- Modular lecture materials\n",
    "- Contributions from hundreds of authors\n",
    "- Massive scale collaboration\n",
    "- Example course materials: <PASTE LINK HERE>\n",
    "- Example tutorial materials: "
   ]
  },
  {
   "cell_type": "markdown",
   "metadata": {
    "slideshow": {
     "slide_type": "notes"
    }
   },
   "source": [
    "I already have some experience with collaborative teaching materials with the software carpentry group. We have hundreds of instructors that help develop our modular lessons. They constantly change and we iterate through the materials based on feedback from all the instructors. It is amazing to see how this all works. I will likely be pursuing this for my courses too."
   ]
  },
  {
   "cell_type": "markdown",
   "metadata": {
    "slideshow": {
     "slide_type": "slide"
    }
   },
   "source": [
    "# Undergradute Courses I am Well Equipped to Teach\n",
    "\n",
    "## Mechanical Design And Manufacturing\n",
    "\n",
    "**ENG 4**, ENG 35, ENG 45, **EME 50**, ENG 104, ENG 104L, EME 107B, **EME 150A/B**, EME 151, EME 185A/B\n",
    "\n",
    "## Dynamics and Control\n",
    "\n",
    "ENG 102, ENG 122, EME 121, EME 134, EME 152, EME 154, EME 171, EME 172, EAE 129/MAE 129\n",
    "\n",
    "## Scientific and Engineering Computation\n",
    "\n",
    "ENG 6, ENG 7, EME 5, ENG 180, EME 115"
   ]
  },
  {
   "cell_type": "markdown",
   "metadata": {
    "slideshow": {
     "slide_type": "notes"
    }
   },
   "source": [
    "Besides my main points I want to cover couple more topics that are relevant. First, these are the courses in this department's undergraduate curriculum that I am ready to teach. I'm mostly \"dry\" mechanical engineer. My undergraduate, professional, and some graduate work were focused on mechanical design related topics. I then developed strong dynamics and controls skills here, at TU Delft, and my post doctoral work so I can cover these courses. Finally, I've have developed a strong suite software engineering, open source software development, and scientific computation and have been novices these skills a lot. I have a lot of ideas of how to give undergraduate students the fundamental skills need to be able to do things like app development, data analyses, and embedded control for their engineering projects. In fact I'd like to see computation increased in all typical mechanical engineering courses, as the world of data is already upon us.\n",
    "\n",
    "I've also taught ENG 4 here in the Fall 2013 and have that class developed to a base level. I've also been a TA for several of the bold courses over the years. I would love to be able to develop ENG 4 further."
   ]
  },
  {
   "cell_type": "markdown",
   "metadata": {
    "slideshow": {
     "slide_type": "subslide"
    }
   },
   "source": [
    "# Courses I'd like to introduce\n",
    "\n",
    "- Collaborative Multidisciplinary Freshman Design\n",
    "- System and Parameter Identification of Linear and Non-linear systems\n",
    "- Numerical Optimization for Engineers\n",
    "- Modern Collaborative Software Development for Engineers (web apps, phone apps, GUIs)\n",
    "- Data science and machine learning for mechanical engineers\n",
    "- Order(n) Multibody Dynamics Algorithms"
   ]
  },
  {
   "cell_type": "markdown",
   "metadata": {
    "slideshow": {
     "slide_type": "notes"
    }
   },
   "source": [
    "I also have some other unique topics I've become adequate at over the years and would love to introduce some new courses as time permits."
   ]
  },
  {
   "cell_type": "markdown",
   "metadata": {
    "slideshow": {
     "slide_type": "slide"
    }
   },
   "source": [
    "# Mechanical Design Experience\n",
    "\n",
    "- NASA spec wind tunnel balance and experimental apparatus design\n",
    "- Compressor component design\n",
    "- Biomedical experimental apparatus\n",
    "- Vehicle experimental apparatus\n",
    "- Race cars, off-road vehicles, bicycles\n",
    "- Maglev train design\n",
    "- Appropriate tech for the developing world: wheelchairs and ambulances"
   ]
  },
  {
   "cell_type": "markdown",
   "metadata": {
    "slideshow": {
     "slide_type": "notes"
    }
   },
   "source": [
    "The description for the position also indicates that a strong mechanical design background is needed. I want to mention several of my design experiences. I've designed full scale wind tunnel balances for NASA Langley, worked some in compressor design and manufacturing, designed several other experimental equipment. During my undergraduate years I participated in three different student design teams working on race cars, off road vehicles, and speed championship bicycles. I've done some design work for a Maglev train and finally I've worked with multiple groups in appropriate technology. In particular designing wheelchairs and human powered ambulances in Zambia and various other human powered machines in Guatemala."
   ]
  },
  {
   "cell_type": "markdown",
   "metadata": {
    "slideshow": {
     "slide_type": "slide"
    }
   },
   "source": [
    "# More Information\n",
    "\n",
    "\n",
    "<h2 align=\"center\">http://tinyurl.com/jkm-tp-talk</h2>\n",
    "\n",
    "- [CV](http://www.moorepants.info/media/docs/JasonMoore_cv.pdf)\n",
    "- [Teaching Statement](https://drive.google.com/file/d/0BzcWFE9cI2tkeEZrMkpaUWlIRGc/view?usp=sharing)\n",
    "- [Diversity Statement](https://drive.google.com/file/d/0BzcWFE9cI2tkaDhyMFhQd2YxUHM/view?usp=sharing)\n",
    "- [Sample course website: ENG 4](http://tinyurl.com/jkm-sample-course)\n",
    "- [Example video of me teaching](https://youtu.be/lWbeuDwYVto)\n",
    "- [Portfolio of design experience](http://www.moorepants.info/portfolio/)\n",
    "- [Interactive Lecture Notes For Sample Lecture](http://tinyurl.com/vib-notes)"
   ]
  },
  {
   "cell_type": "markdown",
   "metadata": {
    "slideshow": {
     "slide_type": "notes"
    }
   },
   "source": [
    "# Potential Questions\n",
    "\n",
    "1. How does this philosophy apply to large classes?"
   ]
  },
  {
   "cell_type": "markdown",
   "metadata": {
    "slideshow": {
     "slide_type": "notes"
    }
   },
   "source": [
    "TODO:\n",
    "- grants\n",
    "- abet\n",
    "- tech in the classroom"
   ]
  },
  {
   "cell_type": "markdown",
   "metadata": {
    "slideshow": {
     "slide_type": "notes"
    }
   },
   "source": [
    "- Check out font sizes and maximize\n",
    "- Space between bullets\n",
    "- Reduce the text\n",
    "- Yumi says I say \"right?\" after setences"
   ]
  }
 ],
 "metadata": {
  "celltoolbar": "Slideshow",
  "kernelspec": {
   "display_name": "Python 2",
   "language": "python",
   "name": "python2"
  },
  "language_info": {
   "codemirror_mode": {
    "name": "ipython",
    "version": 2
   },
   "file_extension": ".py",
   "mimetype": "text/x-python",
   "name": "python",
   "nbconvert_exporter": "python",
   "pygments_lexer": "ipython2",
   "version": "2.7.9"
  }
 },
 "nbformat": 4,
 "nbformat_minor": 0
}
